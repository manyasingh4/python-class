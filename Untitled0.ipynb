{
  "nbformat": 4,
  "nbformat_minor": 0,
  "metadata": {
    "colab": {
      "provenance": []
    },
    "kernelspec": {
      "name": "python3",
      "display_name": "Python 3"
    },
    "language_info": {
      "name": "python"
    }
  },
  "cells": [
    {
      "cell_type": "code",
      "execution_count": null,
      "metadata": {
        "colab": {
          "base_uri": "https://localhost:8080/"
        },
        "id": "DOlu4Os0FXXO",
        "outputId": "21873766-6e20-4e4a-da8a-177703f76f12"
      },
      "outputs": [
        {
          "output_type": "stream",
          "name": "stdout",
          "text": [
            "cool\n",
            "cool\n",
            "cool\n",
            "cool\n"
          ]
        }
      ],
      "source": [
        "x = [1, 2, 3, 4]\n",
        "for i in x:\n",
        "  if (i<5):\n",
        "    print('cool')\n"
      ]
    },
    {
      "cell_type": "code",
      "source": [
        "fruits = ['apple', 'banana', 'coconut', 'strawberry', 5, 67, 'kiwi', 3, 9]\n",
        "print(type(fruits))\n",
        "print(fruits[1])\n",
        "print(len(fruits))\n",
        "print(fruits[:9])\n",
        "fruits[1] = 'blackberry'\n",
        "print(fruits[1])\n",
        "fruits[4:9] = ['kiwi', 2]\n",
        "fruits.append(10)\n",
        "fruits.insert(4, 10)\n",
        "\n",
        "print(fruits)\n",
        "\n",
        "vege = ['broccoli', 'leek', 45, 23, 11]\n",
        "fruits.extend(vege)\n",
        "fruits.remove(10) #no index number\n",
        "fruits.pop(4) #index number with round brackets\n",
        "print(fruits)\n",
        "\n",
        "del fruits[3]\n",
        "#fruits.clear()\n",
        "for i in fruits:\n",
        "  print(i)\n",
        "\n",
        "coffee = [34, 2, -56, 77]\n",
        "coffee.sort(reverse = True)\n",
        "print(coffee)\n",
        "\n",
        "numbers = coffee.copy()\n",
        "\n",
        "forest = fruits + coffee\n",
        "print(forest)\n",
        "\n",
        "coffee.index(34)\n",
        "\n",
        "forest = fruits*2\n",
        "print(forest)"
      ],
      "metadata": {
        "colab": {
          "base_uri": "https://localhost:8080/"
        },
        "id": "y_ARwoPrM91Y",
        "outputId": "b034029a-9379-46bd-9f24-937ad7e67ac5"
      },
      "execution_count": null,
      "outputs": [
        {
          "output_type": "stream",
          "name": "stdout",
          "text": [
            "<class 'list'>\n",
            "banana\n",
            "9\n",
            "['apple', 'banana', 'coconut', 'strawberry', 5, 67, 'kiwi', 3, 9]\n",
            "blackberry\n",
            "['apple', 'blackberry', 'coconut', 'strawberry', 10, 'kiwi', 2, 10]\n",
            "['apple', 'blackberry', 'coconut', 'strawberry', 2, 10, 'broccoli', 'leek', 45, 23, 11]\n",
            "apple\n",
            "blackberry\n",
            "coconut\n",
            "2\n",
            "10\n",
            "broccoli\n",
            "leek\n",
            "45\n",
            "23\n",
            "11\n",
            "[77, 34, 2, -56]\n",
            "['apple', 'blackberry', 'coconut', 2, 10, 'broccoli', 'leek', 45, 23, 11, 77, 34, 2, -56]\n",
            "['apple', 'blackberry', 'coconut', 2, 10, 'broccoli', 'leek', 45, 23, 11, 'apple', 'blackberry', 'coconut', 2, 10, 'broccoli', 'leek', 45, 23, 11]\n"
          ]
        }
      ]
    },
    {
      "cell_type": "markdown",
      "source": [
        "add()\tAdds an element to the set\n",
        "clear()\tRemoves all the elements from the set\n",
        "copy()\tReturns a copy of the set\n",
        "difference()\tReturns a set containing the difference between two or more sets\n",
        "difference_update()\tRemoves the items in this set that are also included in another, specified set\n",
        "discard()\tRemove the specified item\n",
        "intersection()\tReturns a set, that is the intersection of two other sets\n",
        "intersection_update()\tRemoves the items in this set that are not present in other, specified set(s)\n",
        "isdisjoint()\tReturns whether two sets have a intersection or not\n",
        "issubset()\tReturns whether another set contains this set or not\n",
        "issuperset()\tReturns whether this set contains another set or not\n",
        "pop()\tRemoves an element from the set\n",
        "remove()\tRemoves the specified element\n",
        "symmetric_difference()\tReturns a set with the symmetric differences of two sets\n",
        "symmetric_difference_update()\tinserts the symmetric differences from this set and another\n",
        "union()\tReturn a set containing the union of sets\n",
        "update()\tUpdate the set with the union of this set and others"
      ],
      "metadata": {
        "id": "TXk-Hi4lVDw0"
      }
    },
    {
      "cell_type": "code",
      "source": [
        "dictionary = {'eggs':4,\n",
        "              'flour': '50kg',\n",
        "              'sugar':'300g'\n",
        "              }\n",
        "print(dictionary['eggs'])\n",
        "dictionary.get('flour') #same as dictionary[]\n",
        "dictionary.keys() #lists keys\n",
        "dictionary['eggs']=5\n",
        "print(dictionary['eggs'])\n",
        "dictionary.values()\n",
        "dictionary.update({'sugar':'400g'}) #same as changing value with []\n",
        "print(dictionary['sugar'])\n",
        "dictionary['butter'] = '250g'\n",
        "dictionary.pop('sugar')\n",
        "#del dictionary['flour']\n",
        "#dictionary.clear()\n",
        "#copy\n",
        "print(dictionary)\n",
        "\n",
        "#methods: clear, copy, fromkeys, get, items\n",
        "dictionary.items()\n"
      ],
      "metadata": {
        "colab": {
          "base_uri": "https://localhost:8080/"
        },
        "id": "j7YTi3uyVHbN",
        "outputId": "50e5181f-023a-4178-c959-b06e8953be8b"
      },
      "execution_count": null,
      "outputs": [
        {
          "output_type": "stream",
          "name": "stdout",
          "text": [
            "4\n",
            "5\n",
            "400g\n",
            "{'eggs': 5, 'flour': '50kg', 'butter': '250g'}\n"
          ]
        },
        {
          "output_type": "execute_result",
          "data": {
            "text/plain": [
              "dict_items([('eggs', 5), ('flour', '50kg'), ('butter', '250g')])"
            ]
          },
          "metadata": {},
          "execution_count": 1
        }
      ]
    },
    {
      "cell_type": "code",
      "source": [
        "def cat():\n",
        "  print('meow')\n",
        "\n",
        "cat()"
      ],
      "metadata": {
        "colab": {
          "base_uri": "https://localhost:8080/"
        },
        "id": "W53oJPPQYocp",
        "outputId": "aee53dc5-98d3-4fb1-9306-aff96a8232ae"
      },
      "execution_count": null,
      "outputs": [
        {
          "output_type": "stream",
          "name": "stdout",
          "text": [
            "meow\n"
          ]
        }
      ]
    },
    {
      "cell_type": "code",
      "source": [
        "class Dog:\n",
        "  def __init__(self, name, age):\n",
        "    self.name = name\n",
        "    self.age = age\n",
        "\n",
        "d1 = Dog('Bill', 5)\n",
        "print(d1.name, d1.age)"
      ],
      "metadata": {
        "colab": {
          "base_uri": "https://localhost:8080/"
        },
        "id": "D-vjcMUXZG4z",
        "outputId": "fd076a00-217d-45ff-d417-3e43874c7fab"
      },
      "execution_count": null,
      "outputs": [
        {
          "output_type": "stream",
          "name": "stdout",
          "text": [
            "Bill 5\n"
          ]
        }
      ]
    },
    {
      "cell_type": "code",
      "source": [
        "class Person:\n",
        "  def __init__(self, name, age, eyecol):\n",
        "    self.name1 = name\n",
        "    self.age1 = age\n",
        "    self.eye_col = eyecol\n",
        "\n",
        "  def print1(self):\n",
        "    print(self.name1, self.age1)\n",
        "\n",
        "x = Person('Manya', 20, 'brown') #with identing x within the class, the program is going to think the class consturction isn't over\n",
        "x.print1()"
      ],
      "metadata": {
        "colab": {
          "base_uri": "https://localhost:8080/"
        },
        "id": "zKgnYb-2zSe4",
        "outputId": "1b809e9c-56b7-4dc0-b483-3c3a531971e3"
      },
      "execution_count": null,
      "outputs": [
        {
          "output_type": "stream",
          "name": "stdout",
          "text": [
            "Manya 20\n"
          ]
        }
      ]
    },
    {
      "cell_type": "code",
      "source": [
        "class Car:\n",
        "  def __init__(self, brand, model):\n",
        "    self.brand = brand\n",
        "    self.model = model\n",
        "\n",
        "  def move(self):\n",
        "    print('drive')\n",
        "\n",
        "class Boat:\n",
        "  def __init__(self, brand, model):\n",
        "    self.brand = brand\n",
        "    self.model = model\n",
        "\n",
        "  def move(self):\n",
        "    print('sail')\n",
        "\n",
        "class Plane:\n",
        "  def __init__(self, brand, model):\n",
        "    self.brand = brand\n",
        "    self.model = model\n",
        "\n",
        "  def move(self):\n",
        "    print('fly')\n",
        "\n",
        "boeing = Plane('Boeing', '777')\n",
        "sailboat = Boat('Manyaboats', '666')\n",
        "car1 = Car('Nissan', '555')\n",
        "\n",
        "for x in (car1, sailboat, boeing):\n",
        "  x.move()"
      ],
      "metadata": {
        "colab": {
          "base_uri": "https://localhost:8080/"
        },
        "id": "nN1PCsCy4qEY",
        "outputId": "f856c0ad-8138-4428-ea3d-a391ede6132e"
      },
      "execution_count": null,
      "outputs": [
        {
          "output_type": "stream",
          "name": "stdout",
          "text": [
            "drive\n",
            "sail\n",
            "fly\n"
          ]
        }
      ]
    },
    {
      "cell_type": "code",
      "source": [
        "y = 7 #global variable, can be used by any function\n",
        "def func1():\n",
        "  global y\n",
        "  y = 5 #local variable\n",
        "  print(y)\n",
        "func1()\n",
        "\n",
        "print(y)"
      ],
      "metadata": {
        "colab": {
          "base_uri": "https://localhost:8080/",
          "height": 141
        },
        "id": "a2nEP9N76e5m",
        "outputId": "f495e1c9-1ee9-41f6-be73-6785b3a59e3d"
      },
      "execution_count": null,
      "outputs": [
        {
          "output_type": "error",
          "ename": "SyntaxError",
          "evalue": "name 'y' is assigned to before global declaration (<ipython-input-13-f3565101a9d2>, line 4)",
          "traceback": [
            "\u001b[0;36m  File \u001b[0;32m\"<ipython-input-13-f3565101a9d2>\"\u001b[0;36m, line \u001b[0;32m4\u001b[0m\n\u001b[0;31m    global y\u001b[0m\n\u001b[0m    ^\u001b[0m\n\u001b[0;31mSyntaxError\u001b[0m\u001b[0;31m:\u001b[0m name 'y' is assigned to before global declaration\n"
          ]
        }
      ]
    },
    {
      "cell_type": "markdown",
      "source": [],
      "metadata": {
        "id": "vxtOrk6b4Drc"
      }
    }
  ]
}